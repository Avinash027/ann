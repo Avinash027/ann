{
 "cells": [
  {
   "cell_type": "code",
   "execution_count": null,
   "id": "ba90bd14-1fd7-4efd-a116-f5b781992fb9",
   "metadata": {},
   "outputs": [],
   "source": [
    "#ANN 8"
   ]
  },
  {
   "cell_type": "code",
   "execution_count": 11,
   "id": "6d673109-f1f9-4971-a45d-918101b9b908",
   "metadata": {},
   "outputs": [],
   "source": [
    "import numpy as np\n"
   ]
  },
  {
   "cell_type": "code",
   "execution_count": 13,
   "id": "e7aef985-909d-4ebb-9381-2d6b5eb521af",
   "metadata": {},
   "outputs": [],
   "source": [
    "def initialize_weights(input_dim, category):\n",
    "    weights = np.random.uniform(size=(input_dim,))\n",
    "    weights /= np.sum(weights)\n",
    "    return weights\n"
   ]
  },
  {
   "cell_type": "code",
   "execution_count": 15,
   "id": "f1fc19f1-aa75-4a9a-8ee3-b8f6f4d91308",
   "metadata": {},
   "outputs": [],
   "source": [
    "def calculate_similarity(input_pattern, weights):\n",
    "    return np.minimum(input_pattern, weights).sum()"
   ]
  },
  {
   "cell_type": "code",
   "execution_count": 17,
   "id": "89c95774-2d17-4856-b64e-dbc0da402fa0",
   "metadata": {},
   "outputs": [],
   "source": [
    "def update_weights(input_pattern, weights, vigilance):\n",
    "    while True:\n",
    "        activation = calculate_similarity(input_pattern, weights)\n",
    "        if activation >= vigilance:\n",
    "            return weights\n",
    "        else:\n",
    "            weights[np.argmax(input_pattern)] += 1\n",
    "            weights /= np.sum(weights)"
   ]
  },
  {
   "cell_type": "code",
   "execution_count": 19,
   "id": "7af53492-3837-4e98-a57d-1d209611f6e5",
   "metadata": {},
   "outputs": [],
   "source": [
    "def ART_neural_network(input_patterns, vigilance):\n",
    "    num_patterns, input_dim = input_patterns.shape\n",
    "    categories = []\n",
    "\n",
    "    for pattern in input_patterns:\n",
    "        matched_category = None\n",
    "        for category in categories:\n",
    "            if calculate_similarity(pattern, category[\"weights\"]) >= vigilance:\n",
    "                matched_category = category\n",
    "                break\n",
    "\n",
    "        if matched_category is None:\n",
    "            weights = initialize_weights(input_dim, len(categories))\n",
    "            matched_category = {\"weights\": weights, \"patterns\": []}\n",
    "            categories.append(matched_category)\n",
    "\n",
    "        matched_category[\"patterns\"].append(pattern)\n",
    "        matched_category[\"weights\"] = update_weights(pattern, matched_category[\"weights\"], vigilance)\n",
    "\n",
    "    return categories"
   ]
  },
  {
   "cell_type": "code",
   "execution_count": 21,
   "id": "c5a974f2-ee3f-414d-a04e-7d5000b7b98c",
   "metadata": {},
   "outputs": [],
   "source": [
    "input_patterns = np.array([[1, 0, 1, 0], [0, 1, 0, 1], [1, 1, 1, 0]])\n",
    "vigilance = 0.5\n",
    "\n",
    "categories = ART_neural_network(input_patterns, vigilance)"
   ]
  },
  {
   "cell_type": "code",
   "execution_count": 23,
   "id": "639e4653-a2db-4e7d-b89a-2a433b1dcfcb",
   "metadata": {},
   "outputs": [
    {
     "name": "stdout",
     "output_type": "stream",
     "text": [
      "Category 1:\n",
      "Patterns:\n",
      "[1 0 1 0]\n",
      "[1 1 1 0]\n",
      "Weights:\n",
      "[0.30304337 0.24755086 0.42169609 0.02770967]\n",
      "\n",
      "Category 2:\n",
      "Patterns:\n",
      "[0 1 0 1]\n",
      "Weights:\n",
      "[0.10042834 0.57037026 0.19279409 0.1364073 ]\n",
      "\n"
     ]
    }
   ],
   "source": [
    "for i, category in enumerate(categories):\n",
    "    print(f\"Category {i+1}:\")\n",
    "    print(\"Patterns:\")\n",
    "    [print(pattern) for pattern in category[\"patterns\"]]\n",
    "    print(\"Weights:\")\n",
    "    print(category[\"weights\"])\n",
    "    print()\n",
    "    "
   ]
  },
  {
   "cell_type": "code",
   "execution_count": null,
   "id": "0d157023-ddda-4753-846a-8d50d8a83f5f",
   "metadata": {},
   "outputs": [],
   "source": []
  }
 ],
 "metadata": {
  "kernelspec": {
   "display_name": "Python 3 (ipykernel)",
   "language": "python",
   "name": "python3"
  },
  "language_info": {
   "codemirror_mode": {
    "name": "ipython",
    "version": 3
   },
   "file_extension": ".py",
   "mimetype": "text/x-python",
   "name": "python",
   "nbconvert_exporter": "python",
   "pygments_lexer": "ipython3",
   "version": "3.12.7"
  }
 },
 "nbformat": 4,
 "nbformat_minor": 5
}
