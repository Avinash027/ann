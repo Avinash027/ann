{
 "cells": [
  {
   "cell_type": "code",
   "execution_count": null,
   "id": "e9009b27-23fd-4af0-aaba-eac0b12495b3",
   "metadata": {},
   "outputs": [],
   "source": [
    "#ANN 9"
   ]
  },
  {
   "cell_type": "code",
   "execution_count": 17,
   "id": "23f270fc-9258-4f6e-b137-3d5360647a49",
   "metadata": {},
   "outputs": [],
   "source": [
    "\n",
    "import numpy as np"
   ]
  },
  {
   "cell_type": "code",
   "execution_count": 7,
   "id": "591a237f-3ae3-45ca-81a1-2472e578aa64",
   "metadata": {},
   "outputs": [],
   "source": [
    "vectors = np.array([[1, 1, -1, -1],\n",
    "                    [-1, -1, 1, 1],\n",
    "                    [1, -1, 1, -1],\n",
    "                    [-1, 1, -1, 1]])"
   ]
  },
  {
   "cell_type": "code",
   "execution_count": 9,
   "id": "c3cee057-18a6-4f97-820d-9496de3698cf",
   "metadata": {},
   "outputs": [],
   "source": [
    "weights = np.zeros((4, 4))\n",
    "for i in range(4):\n",
    "    for j in range(4):\n",
    "        if i == j:\n",
    "            weights[i, j] = 0\n",
    "        else:\n",
    "            weights[i, j] = np.sum(vectors[i] * vectors[j])"
   ]
  },
  {
   "cell_type": "code",
   "execution_count": 11,
   "id": "cd0aade1-0704-4121-b9b6-63e2aecd8531",
   "metadata": {},
   "outputs": [],
   "source": [
    "def activation(x):\n",
    "    return np.where(x >= 0, 1, -1)"
   ]
  },
  {
   "cell_type": "code",
   "execution_count": 13,
   "id": "90d44fad-0bcf-495c-afe9-e989b3f2f8cd",
   "metadata": {},
   "outputs": [],
   "source": [
    "def hopfield(input_vector, weights):\n",
    "    output_vector = activation(np.dot(weights, input_vector))\n",
    "    return output_vector"
   ]
  },
  {
   "cell_type": "code",
   "execution_count": 15,
   "id": "64d56ea2-531f-4b10-bd02-c3db8e496571",
   "metadata": {},
   "outputs": [
    {
     "name": "stdout",
     "output_type": "stream",
     "text": [
      "Input vector:\n",
      "[ 1  1 -1 -1]\n",
      "Output vector:\n",
      "[-1 -1  1  1]\n"
     ]
    }
   ],
   "source": [
    "input_vector = vectors[0]\n",
    "output_vector = hopfield(input_vector, weights)\n",
    "print(\"Input vector:\")\n",
    "print(input_vector)\n",
    "print(\"Output vector:\")\n",
    "print(output_vector)"
   ]
  },
  {
   "cell_type": "code",
   "execution_count": null,
   "id": "f09fea94-a7df-449b-99e7-045f51e5efc9",
   "metadata": {},
   "outputs": [],
   "source": []
  }
 ],
 "metadata": {
  "kernelspec": {
   "display_name": "Python 3 (ipykernel)",
   "language": "python",
   "name": "python3"
  },
  "language_info": {
   "codemirror_mode": {
    "name": "ipython",
    "version": 3
   },
   "file_extension": ".py",
   "mimetype": "text/x-python",
   "name": "python",
   "nbconvert_exporter": "python",
   "pygments_lexer": "ipython3",
   "version": "3.12.7"
  }
 },
 "nbformat": 4,
 "nbformat_minor": 5
}
