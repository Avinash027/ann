{
 "cells": [
  {
   "cell_type": "code",
   "execution_count": null,
   "id": "d590ea6c-df9c-4d29-aeb1-4297990b3a1c",
   "metadata": {},
   "outputs": [],
   "source": [
    "#ANN 10"
   ]
  },
  {
   "cell_type": "code",
   "execution_count": 7,
   "id": "265fbfe3-7116-49bb-87f8-e6c2ea2509b4",
   "metadata": {},
   "outputs": [],
   "source": [
    "import tensorflow as tf\n",
    "import numpy as np\n",
    "import cv2\n"
   ]
  },
  {
   "cell_type": "code",
   "execution_count": 9,
   "id": "474b4735-3f8c-49ee-9676-1eb911904e28",
   "metadata": {},
   "outputs": [],
   "source": [
    "\n",
    "# Define the path to the pre-trained model\n",
    "model_path = r\"C:\\Users\\Avina\\ANN practical\\ssd_mobilenet_v2_320x320_coco17_tpu-8\\saved_model\"\n",
    "\n",
    "# Load the pre-trained model\n",
    "model = tf.saved_model.load(model_path)"
   ]
  },
  {
   "cell_type": "code",
   "execution_count": 10,
   "id": "2074b3de-70de-4318-8d8d-4ae80ac79d1f",
   "metadata": {},
   "outputs": [],
   "source": [
    "# Define the label map\n",
    "label_map = {1: 'person', 2: 'car', 3: 'dog'}  # Replace with your label map"
   ]
  },
  {
   "cell_type": "code",
   "execution_count": 11,
   "id": "4107524c-d812-4276-b369-b51256b1efdd",
   "metadata": {},
   "outputs": [],
   "source": [
    "path = r\"C:\\Users\\Avina\\ANN practical\\test.png\"\n",
    "\n",
    "# Read the image using OpenCV\n",
    "image = cv2.imread(path)"
   ]
  },
  {
   "cell_type": "code",
   "execution_count": 12,
   "id": "e7e1a7ba-a460-45e1-90a9-2f294a69d745",
   "metadata": {},
   "outputs": [],
   "source": [
    "if image is None:\n",
    "    print(\"Error: Image not loaded. Check file path or file existence.\")\n",
    "else:\n",
    "    # Convert image from BGR to RGB\n",
    "    image_rgb = cv2.cvtColor(image, cv2.COLOR_BGR2RGB)\n",
    "\n",
    "    # Prepare the image for the model input\n",
    "    image_resized = cv2.resize(image_rgb, (320, 320))  # Resize to the input size of the model\n",
    "    image_tensor = np.expand_dims(image_resized, axis=0)  # Add batch dimension\n",
    "    image_tensor = tf.convert_to_tensor(image_tensor, dtype=tf.uint8)\n",
    "\n",
    "    # Perform object detection\n",
    "    detections = model(image_tensor)\n",
    "    boxes = detections['detection_boxes'][0].numpy()\n",
    "    scores = detections['detection_scores'][0].numpy()\n",
    "    classes = detections['detection_classes'][0].numpy().astype(int)\n",
    "\n",
    "    # Set the threshold for detections\n",
    "    threshold = 0.5\n",
    "    filtered_boxes = boxes[scores >= threshold]\n",
    "    filtered_classes = classes[scores >= threshold]\n"
   ]
  },
  {
   "cell_type": "code",
   "execution_count": 13,
   "id": "e6d612c9-7ab6-4105-bb6f-84f2decec481",
   "metadata": {},
   "outputs": [],
   "source": [
    "for box, cls in zip(filtered_boxes, filtered_classes):\n",
    "        ymin, xmin, ymax, xmax = box\n",
    "        ymin *= image.shape[0]\n",
    "        xmin *= image.shape[1]\n",
    "        ymax *= image.shape[0]\n",
    "        xmax *= image.shape[1]\n",
    "\n",
    "        label = label_map.get(cls, 'Unknown')\n",
    "\n",
    "        # Draw bounding box and label on the image\n",
    "        cv2.rectangle(image, (int(xmin), int(ymin)), (int(xmax), int(ymax)), (0, 255, 0), 2)\n",
    "        cv2.putText(image, label, (int(xmin), int(ymin) - 10),\n",
    "                    cv2.FONT_HERSHEY_SIMPLEX, 0.9, (0, 255, 0), 2)\n"
   ]
  },
  {
   "cell_type": "code",
   "execution_count": 14,
   "id": "acab8c59-175a-4f0a-8041-f6b914777c8a",
   "metadata": {},
   "outputs": [
    {
     "name": "stdout",
     "output_type": "stream",
     "text": [
      "Boxes detected: 2\n",
      "[[0.03735748 0.15418722 0.9313384  0.52299887]\n",
      " [0.46340597 0.03166941 0.96292806 0.74925494]]\n"
     ]
    }
   ],
   "source": [
    "    image_bgr = cv2.cvtColor(image, cv2.COLOR_RGB2BGR)\n",
    "\n",
    "    # Display the image with bounding boxes\n",
    "    cv2.imshow('Detected Objects', image_bgr)\n",
    "    cv2.waitKey(0)\n",
    "    cv2.destroyAllWindows()\n",
    "\n",
    "print(f\"Boxes detected: {len(filtered_boxes)}\")\n",
    "print(filtered_boxes)\n"
   ]
  },
  {
   "cell_type": "code",
   "execution_count": null,
   "id": "bd19e432-7a9e-4262-ae34-c3c4ec9fa47a",
   "metadata": {},
   "outputs": [],
   "source": []
  }
 ],
 "metadata": {
  "kernelspec": {
   "display_name": "Python 3 (ipykernel)",
   "language": "python",
   "name": "python3"
  },
  "language_info": {
   "codemirror_mode": {
    "name": "ipython",
    "version": 3
   },
   "file_extension": ".py",
   "mimetype": "text/x-python",
   "name": "python",
   "nbconvert_exporter": "python",
   "pygments_lexer": "ipython3",
   "version": "3.12.7"
  }
 },
 "nbformat": 4,
 "nbformat_minor": 5
}
