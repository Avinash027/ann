{
 "cells": [
  {
   "cell_type": "code",
   "execution_count": 11,
   "id": "2cff13d9-0786-419b-aec2-9a1ae0b5e952",
   "metadata": {},
   "outputs": [
    {
     "name": "stdout",
     "output_type": "stream",
     "text": [
      "Predictions:\n",
      "Input: [1 0 0], Predicted Category: 0\n",
      "Input: [0 1 0], Predicted Category: 1\n",
      "Input: [1 1 0], Predicted Category: 2\n",
      "Input: [0 0 1], Predicted Category: 3\n"
     ]
    }
   ],
   "source": [
    "import numpy as np\n",
    "#ann8\n",
    "class ART1:\n",
    "    def __init__(self, input_size, num_categories, vigilance):\n",
    "        self.input_size = input_size\n",
    "        self.num_categories = num_categories\n",
    "        self.vigilance = vigilance\n",
    "        # Initialize weight matrix with ones\n",
    "        self.weights = np.ones((num_categories, input_size * 2))\n",
    "\n",
    "    def complement_code(self, input_vector):\n",
    "        # Generate complement coded input\n",
    "        return np.concatenate([input_vector, 1 - input_vector])\n",
    "\n",
    "    def match_category(self, input_vector):\n",
    "        # Compute matching scores\n",
    "        scores = np.dot(self.weights, input_vector)\n",
    "        norms = np.sum(input_vector)\n",
    "        return scores / norms\n",
    "\n",
    "    def train(self, inputs):\n",
    "        for input_vector in inputs:\n",
    "            input_vector = self.complement_code(input_vector)\n",
    "            while True:\n",
    "                match_scores = self.match_category(input_vector)\n",
    "                chosen_category = np.argmax(match_scores)\n",
    "\n",
    "                # Vigilance test\n",
    "                if np.sum(np.minimum(input_vector, self.weights[chosen_category])) / np.sum(input_vector) >= self.vigilance:\n",
    "                    # Update weights\n",
    "                    self.weights[chosen_category] = np.minimum(input_vector, self.weights[chosen_category])\n",
    "                    break\n",
    "                else:\n",
    "                    # Reset the category by setting its weight to zero\n",
    "                    self.weights[chosen_category] = np.zeros_like(self.weights[chosen_category])\n",
    "\n",
    "    def predict(self, input_vector):\n",
    "        input_vector = self.complement_code(input_vector)\n",
    "        match_scores = self.match_category(input_vector)\n",
    "        return np.argmax(match_scores)\n",
    "\n",
    "# Example usage\n",
    "inputs = np.array([\n",
    "    [1, 0, 0],\n",
    "    [0, 1, 0],\n",
    "    [1, 1, 0],\n",
    "    [0, 0, 1]\n",
    "])\n",
    "\n",
    "art = ART1(input_size=3, num_categories=4, vigilance=0.7)\n",
    "art.train(inputs)\n",
    "\n",
    "print(\"Predictions:\")\n",
    "for input_vector in inputs:\n",
    "    print(f\"Input: {input_vector}, Predicted Category: {art.predict(input_vector)}\")\n"
   ]
  },
  {
   "cell_type": "code",
   "execution_count": null,
   "id": "efd04618-ee1a-431d-a299-6f888a0c74a0",
   "metadata": {},
   "outputs": [],
   "source": []
  }
 ],
 "metadata": {
  "kernelspec": {
   "display_name": "Python 3 (ipykernel)",
   "language": "python",
   "name": "python3"
  },
  "language_info": {
   "codemirror_mode": {
    "name": "ipython",
    "version": 3
   },
   "file_extension": ".py",
   "mimetype": "text/x-python",
   "name": "python",
   "nbconvert_exporter": "python",
   "pygments_lexer": "ipython3",
   "version": "3.12.7"
  }
 },
 "nbformat": 4,
 "nbformat_minor": 5
}
